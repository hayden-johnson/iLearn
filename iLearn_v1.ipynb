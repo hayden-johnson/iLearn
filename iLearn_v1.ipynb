{
 "cells": [
  {
   "cell_type": "code",
   "execution_count": 1,
   "metadata": {},
   "outputs": [],
   "source": [
    "from rdflib import Graph\n",
    "from SPARQLWrapper import SPARQLWrapper, JSON, N3\n",
    "from pprint import pprint "
   ]
  },
  {
   "cell_type": "markdown",
   "metadata": {},
   "source": [
    "### User input"
   ]
  },
  {
   "cell_type": "code",
   "execution_count": 2,
   "metadata": {},
   "outputs": [
    {
     "name": "stdout",
     "output_type": "stream",
     "text": [
      "I want to learn about machine learning\n"
     ]
    }
   ],
   "source": [
    "goal = input('I want to learn about ')"
   ]
  },
  {
   "cell_type": "markdown",
   "metadata": {},
   "source": [
    "### Define Domain"
   ]
  },
  {
   "cell_type": "code",
   "execution_count": 3,
   "metadata": {},
   "outputs": [
    {
     "name": "stdout",
     "output_type": "stream",
     "text": [
      "\n",
      "    SELECT ?object\n",
      "    WHERE { dbr:Machine_learning dbo:abstract ?object .} \n",
      "\n"
     ]
    }
   ],
   "source": [
    "sparql = SPARQLWrapper('https://dbpedia.org/sparql')\n",
    "query = '''\n",
    "    SELECT ?object\n",
    "    WHERE {{ dbr:{0} dbo:abstract ?object .}} \n",
    "'''.format(goal.capitalize().replace(' ', '_'))\n",
    "sparql.setQuery(query)\n",
    "print(query)"
   ]
  },
  {
   "cell_type": "markdown",
   "metadata": {},
   "source": [
    "### Print Summary"
   ]
  },
  {
   "cell_type": "code",
   "execution_count": 4,
   "metadata": {},
   "outputs": [
    {
     "name": "stdout",
     "output_type": "stream",
     "text": [
      "Machine learning (ML) is the study of computer algorithms that improve automatically through experience. It is seen as a subset of artificial intelligence. Machine learning algorithms build a mathematical model based on sample data, known as \"training data\", in order to make predictions or decisions without being explicitly programmed to do so. Machine learning algorithms are used in a wide variety of applications, such as email filtering and computer vision, where it is difficult or infeasible to develop conventional algorithms to perform the needed tasks. Machine learning is closely related to computational statistics, which focuses on making predictions using computers. The study of mathematical optimization delivers methods, theory and application domains to the field of machine learning. Data mining is a related field of study, focusing on exploratory data analysis through unsupervised learning. In its application across business problems, machine learning is also referred to as predictive analytics.\n"
     ]
    }
   ],
   "source": [
    "sparql.setReturnFormat(JSON)\n",
    "qres = sparql.query().convert()\n",
    "\n",
    "for result in qres['results']['bindings']:\n",
    "    lang, value = result['object']['xml:lang'], result['object']['value']\n",
    "    if lang == 'en':\n",
    "        print(value)"
   ]
  },
  {
   "cell_type": "markdown",
   "metadata": {},
   "source": [
    "### Construct Generalized Curriculum Graph"
   ]
  },
  {
   "cell_type": "code",
   "execution_count": 5,
   "metadata": {
    "scrolled": false
   },
   "outputs": [
    {
     "name": "stdout",
     "output_type": "stream",
     "text": [
      "@prefix dbc: <http://dbpedia.org/resource/Category:> .\n",
      "@prefix skos: <http://www.w3.org/2004/02/skos/core#> .\n",
      "\n",
      "dbc:Machine_learning skos:broader dbc:Artificial_intelligence,\n",
      "        dbc:Learning ;\n",
      "    skos:narrower dbc:Applied_machine_learning,\n",
      "        dbc:Artificial_intelligence_conferences,\n",
      "        dbc:Artificial_neural_networks,\n",
      "        dbc:Bayesian_networks,\n",
      "        dbc:Classification_algorithms,\n",
      "        dbc:Cluster_analysis,\n",
      "        dbc:Computational_learning_theory,\n",
      "        dbc:Data_mining_and_machine_learning_software,\n",
      "        dbc:Datasets_in_machine_learning,\n",
      "        dbc:Deep_learning,\n",
      "        dbc:Dimension_reduction,\n",
      "        dbc:Ensemble_learning,\n",
      "        dbc:Evolutionary_algorithms,\n",
      "        dbc:Genetic_programming,\n",
      "        dbc:Inductive_logic_programming,\n",
      "        dbc:Kernel_methods_for_machine_learning,\n",
      "        dbc:Latent_variable_models,\n",
      "        dbc:Learning_in_computer_vision,\n",
      "        dbc:Log-linear_models,\n",
      "        dbc:Loss_functions,\n",
      "        dbc:Machine_learning_algorithms,\n",
      "        dbc:Machine_learning_researchers,\n",
      "        dbc:Machine_learning_task,\n",
      "        dbc:Markov_models,\n",
      "        <http://dbpedia.org/resource/Category:Ontology_learning_(computer_science)>,\n",
      "        dbc:Reinforcement_learning,\n",
      "        dbc:Semisupervised_learning,\n",
      "        dbc:Signal_processing_conferences,\n",
      "        dbc:Statistical_natural_language_processing,\n",
      "        dbc:Structured_prediction,\n",
      "        dbc:Supervised_learning,\n",
      "        dbc:Support_vector_machines,\n",
      "        dbc:Unsupervised_learning .\n",
      "\n",
      "\n"
     ]
    }
   ],
   "source": [
    "sparql = SPARQLWrapper('https://dbpedia.org/sparql')\n",
    "sparql.setQuery('''\n",
    "CONSTRUCT { dbc:Machine_learning skos:broader ?parent .\n",
    "            dbc:Machine_learning skos:narrower ?child .}\n",
    "WHERE {\n",
    "    { dbc:Machine_learning skos:broader ?parent . }\n",
    "UNION \n",
    "    { ?child skos:broader dbc:Machine_learning . }\n",
    "}\n",
    "''')\n",
    "\n",
    "sparql.setReturnFormat(N3)\n",
    "qres = sparql.query().convert()\n",
    "\n",
    "g = Graph()\n",
    "g.parse(data=qres, format='n3')\n",
    "g_str = g.serialize(format='ttl').decode('u8')\n",
    "print(g_str)"
   ]
  },
  {
   "cell_type": "markdown",
   "metadata": {},
   "source": [
    "### Data Wrangling"
   ]
  },
  {
   "cell_type": "code",
   "execution_count": 6,
   "metadata": {
    "scrolled": false
   },
   "outputs": [
    {
     "name": "stdout",
     "output_type": "stream",
     "text": [
      "['@prefix', '<http://dbpediaorg/resource/Category:>@prefix', '<http://wwww3org/2004/02/skos/core#>', 'Machine_learning', 'broader', 'Artificial_intelligence', '', 'Learning', '', 'narrower', 'Applied_machine_learning', '', 'Artificial_intelligence_conferences', '', 'Artificial_neural_networks', '', 'Bayesian_networks', '', 'Classification_algorithms', '', 'Cluster_analysis', '', 'Computational_learning_theory', '', 'Data_mining_and_machine_learning_software', '', 'Datasets_in_machine_learning', '', 'Deep_learning', '', 'Dimension_reduction', '', 'Ensemble_learning', '', 'Evolutionary_algorithms', '', 'Genetic_programming', '', 'Inductive_logic_programming', '', 'Kernel_methods_for_machine_learning', '', 'Latent_variable_models', '', 'Learning_in_computer_vision', '', 'Log-linear_models', '', 'Loss_functions', '', 'Machine_learning_algorithms', '', 'Machine_learning_researchers', '', 'Machine_learning_task', '', 'Markov_models', '<http://dbpediaorg/resource/Category:Ontology_learning_(computer_science)>', '', 'Reinforcement_learning', '', 'Semisupervised_learning', '', 'Signal_processing_conferences', '', 'Statistical_natural_language_processing', '', 'Structured_prediction', '', 'Supervised_learning', '', 'Support_vector_machines', '', 'Unsupervised_learning']\n",
      "---------------------\n",
      "\n",
      "\n",
      "broad\n",
      "---------------------\n",
      "Artificial intelligence\n",
      "Learning\n",
      "\n",
      "narrow\n",
      "---------------------\n",
      "Applied machine learning\n",
      "Artificial intelligence conferences\n",
      "Artificial neural networks\n",
      "Bayesian networks\n",
      "Classification algorithms\n",
      "Cluster analysis\n",
      "Computational learning theory\n",
      "Data mining and machine learning software\n",
      "Datasets in machine learning\n",
      "Deep learning\n",
      "Dimension reduction\n",
      "Ensemble learning\n",
      "Evolutionary algorithms\n",
      "Genetic programming\n",
      "Inductive logic programming\n",
      "Kernel methods for machine learning\n",
      "Latent variable models\n",
      "Learning in computer vision\n",
      "Log-linear models\n",
      "Loss functions\n",
      "Machine learning algorithms\n",
      "Machine learning researchers\n",
      "Machine learning task\n",
      "Markov models\n",
      "Reinforcement learning\n",
      "Semisupervised learning\n",
      "Signal processing conferences\n",
      "Statistical natural language processing\n",
      "Structured prediction\n",
      "Supervised learning\n",
      "Support vector machines\n",
      "Unsupervised learning\n"
     ]
    }
   ],
   "source": [
    "import re \n",
    "\n",
    "arr = re.split(',|;|dbc:|skos:', g_str.replace('\\n', '').replace(' ', '').replace('.', ''))\n",
    "print(arr)\n",
    "print('---------------------\\n')\n",
    "topic_list = [x for x in arr if 'http' not in x and x != '']    \n",
    "broad_idx = topic_list.index('broader')\n",
    "narrow_idx = topic_list.index('narrower')\n",
    "main_topic = topic_list[1].replace('_', ' ')\n",
    "broad = [x.replace('_', ' ') for x in topic_list if topic_list.index(x) > broad_idx and topic_list.index(x) < narrow_idx]\n",
    "narrow = [x.replace('_', ' ') for x in topic_list if topic_list.index(x) > narrow_idx]\n",
    "\n",
    "print('\\nbroad\\n---------------------')\n",
    "for a in broad:\n",
    "    print(a)\n",
    "print('\\nnarrow\\n---------------------')\n",
    "for a in narrow:\n",
    "    print(a) "
   ]
  },
  {
   "cell_type": "markdown",
   "metadata": {},
   "source": [
    "### Web Scraping (Google search)\n",
    "- googlesearch-python"
   ]
  },
  {
   "cell_type": "code",
   "execution_count": 7,
   "metadata": {
    "scrolled": false
   },
   "outputs": [
    {
     "name": "stdout",
     "output_type": "stream",
     "text": [
      "https://www.sas.com/en_us/insights/analytics/machine-learning.html\n",
      "\n",
      "\n",
      "https://www.sas.com/en_us/insights/analytics/machine-learning.html\n",
      "\n",
      "\n",
      "https://en.wikipedia.org/wiki/Machine_learning\n",
      "\n",
      "\n",
      "https://www.coursera.org/learn/machine-learning\n",
      "\n",
      "\n",
      "https://www.expert.ai/blog/machine-learning-definition/\n",
      "\n",
      "\n",
      "https://developers.google.com/machine-learning/crash-course\n",
      "\n",
      "\n",
      "https://www.geeksforgeeks.org/machine-learning/\n",
      "\n",
      "\n",
      "https://searchenterpriseai.techtarget.com/definition/machine-learning-ML\n",
      "\n",
      "\n",
      "https://www.ibm.com/cloud/learn/machine-learning\n",
      "\n",
      "\n",
      "https://aws.amazon.com/machine-learning/\n",
      "\n",
      "\n",
      "/search?q=Machine+learning&num=11&hl=en&tbm=isch&source=iu&ictx=1&fir=jJagNU8tZ2wF4M%252CBwMswl4yZQIR8M%252C%252Fm%252F01hyh_&vet=1&usg=AI4_-kSmU5QY08UZxOW_nEGPvrI9hFr2gA&sa=X&ved=2ahUKEwjH-KvFipvxAhV0MX0KHZ0VCdcQ_B16BAgyEAE#imgrc=jJagNU8tZ2wF4M\n",
      "\n",
      "\n"
     ]
    }
   ],
   "source": [
    "import requests\n",
    "import bs4\n",
    "from googlesearch import search\n",
    "\n",
    "top_10 = search(main_topic, num_results=10, lang='en')\n",
    "for j in top_10:\n",
    "    print(j)\n",
    "    print('\\n')"
   ]
  },
  {
   "cell_type": "markdown",
   "metadata": {},
   "source": [
    "### Web Scraping (Extract Text)\n",
    "- beautifulsoup4"
   ]
  },
  {
   "cell_type": "code",
   "execution_count": 10,
   "metadata": {},
   "outputs": [],
   "source": [
    "def extract_text(url):\n",
    "    pass\n",
    "    # TODO: Write methods to extract text from a given url "
   ]
  },
  {
   "cell_type": "markdown",
   "metadata": {},
   "source": [
    "### Relevance Algorithm 1: Word Frequency "
   ]
  },
  {
   "cell_type": "code",
   "execution_count": 11,
   "metadata": {},
   "outputs": [],
   "source": [
    "def extract_word_count(page, word):\n",
    "    pass\n",
    "    # TODO: write method to scrape number of words in a text"
   ]
  },
  {
   "cell_type": "markdown",
   "metadata": {},
   "source": [
    "### Relevance Algorithm 2: Co-occurance \n",
    "- textnets"
   ]
  },
  {
   "cell_type": "code",
   "execution_count": 12,
   "metadata": {},
   "outputs": [],
   "source": [
    "def extract_co_occurance(page, word):\n",
    "    pass\n",
    "    # TODO: write method to extract co-occurance matrix from a text"
   ]
  },
  {
   "cell_type": "markdown",
   "metadata": {},
   "source": [
    "### Explore Domain "
   ]
  },
  {
   "cell_type": "code",
   "execution_count": 13,
   "metadata": {
    "scrolled": false
   },
   "outputs": [
    {
     "name": "stdout",
     "output_type": "stream",
     "text": [
      "http://dbpedia.org/resource/AI-complete\n",
      "http://dbpedia.org/resource/ALPAC\n",
      "http://dbpedia.org/resource/Category:Natural_language_processing\n",
      "http://dbpedia.org/resource/Machine_learning\n",
      "http://dbpedia.org/resource/Controlled_natural_language\n",
      "http://dbpedia.org/resource/Coreference\n",
      "http://dbpedia.org/resource/Corpus_linguistics\n",
      "http://dbpedia.org/resource/Value_(mathematics)\n",
      "http://dbpedia.org/resource/Probabilistic_context-free_grammar\n",
      "http://dbpedia.org/resource/Semantic_role_labeling\n",
      "http://dbpedia.org/resource/Semi-supervised_learning\n",
      "http://dbpedia.org/resource/Speech_segmentation\n",
      "http://dbpedia.org/resource/Statistical_machine_translation\n",
      "http://dbpedia.org/resource/Text_segmentation\n",
      "http://dbpedia.org/resource/Foreign_language_writing_aid\n",
      "http://dbpedia.org/resource/Seq2seq\n",
      "http://dbpedia.org/resource/Grammar_induction\n",
      "http://dbpedia.org/resource/Pro-drop_language\n",
      "http://dbpedia.org/resource/Punctuation\n",
      "http://dbpedia.org/resource/Question_answering\n",
      "http://dbpedia.org/resource/Speech_recognition\n",
      "http://dbpedia.org/resource/Open-world_assumption\n",
      "http://dbpedia.org/resource/Grammar\n",
      "http://dbpedia.org/resource/Hidden_Markov_model\n",
      "http://dbpedia.org/resource/Language_technology\n",
      "http://dbpedia.org/resource/Word2vec\n",
      "http://dbpedia.org/resource/Semantic_parsing\n",
      "http://dbpedia.org/resource/Category:Artificial_intelligence\n",
      "http://dbpedia.org/resource/Alan_Turing\n",
      "http://dbpedia.org/resource/Category:Computational_fields_of_study\n",
      "http://dbpedia.org/resource/Category:Computational_linguistics\n",
      "http://dbpedia.org/resource/Analog_signal\n",
      "http://dbpedia.org/resource/Noam_Chomsky\n",
      "http://dbpedia.org/resource/Chatbot\n",
      "http://dbpedia.org/resource/Dialogue_system\n",
      "http://dbpedia.org/resource/Formal_grammar\n",
      "http://dbpedia.org/resource/Frame_semantics_(linguistics)\n",
      "http://dbpedia.org/resource/Named-entity_recognition\n",
      "http://dbpedia.org/resource/Native-language_identification\n",
      "http://dbpedia.org/resource/Natural-language_generation\n",
      "http://dbpedia.org/resource/Natural-language_understanding\n",
      "http://dbpedia.org/resource/Neural_machine_translation\n",
      "http://dbpedia.org/resource/Neural_network\n",
      "http://dbpedia.org/resource/Noun\n",
      "http://dbpedia.org/resource/Query_expansion\n",
      "http://dbpedia.org/resource/Reification_(linguistics)\n",
      "http://dbpedia.org/resource/Rhetorical_structure_theory\n",
      "http://dbpedia.org/resource/Head-driven_phrase_structure_grammar\n",
      "http://dbpedia.org/resource/Speech_processing\n",
      "http://dbpedia.org/resource/Automatic_summarization\n",
      "http://dbpedia.org/resource/Decision_tree\n",
      "http://dbpedia.org/resource/Deep_learning\n",
      "http://dbpedia.org/resource/Deep_linguistic_processing\n",
      "http://dbpedia.org/resource/Referring_expression\n",
      "http://dbpedia.org/resource/Statistical_inference\n",
      "http://dbpedia.org/resource/Jabberwacky\n",
      "http://dbpedia.org/resource/Stative_verb\n",
      "http://dbpedia.org/resource/Category:Speech_recognition\n",
      "http://dbpedia.org/resource/Chinese_language\n",
      "http://dbpedia.org/resource/Chinese_room\n",
      "http://dbpedia.org/resource/Cognitive_linguistics\n",
      "http://dbpedia.org/resource/Cognitive_science\n",
      "http://dbpedia.org/resource/George_Lakoff\n",
      "http://dbpedia.org/resource/German_language\n",
      "http://dbpedia.org/resource/Bag-of-words_model\n",
      "http://dbpedia.org/resource/Relationship_extraction\n",
      "http://dbpedia.org/resource/Outline_of_natural_language_processing\n",
      "http://dbpedia.org/resource/Speech_act\n",
      "http://dbpedia.org/resource/Optical_character_recognition\n",
      "http://dbpedia.org/resource/Person-centered_therapy\n",
      "http://dbpedia.org/resource/Sentiment_analysis\n",
      "http://dbpedia.org/resource/Speech_synthesis\n",
      "http://dbpedia.org/resource/Text_simplification\n",
      "http://dbpedia.org/resource/Unsupervised_learning\n",
      "http://dbpedia.org/resource/1_the_Road\n",
      "http://dbpedia.org/resource/Biomedical_text_mining\n",
      "http://dbpedia.org/resource/Language_and_Communication_Technologies\n",
      "http://dbpedia.org/resource/Language_model\n",
      "http://dbpedia.org/resource/Latent_semantic_analysis\n",
      "http://dbpedia.org/resource/Lemmatisation\n",
      "http://dbpedia.org/resource/Lesk_algorithm\n",
      "http://dbpedia.org/resource/Lexical_analysis\n",
      "http://dbpedia.org/resource/Lexical_semantics\n",
      "http://dbpedia.org/resource/Linguistics\n",
      "http://dbpedia.org/resource/Machine_translation\n",
      "http://dbpedia.org/resource/Natural_language\n",
      "http://dbpedia.org/resource/Semantics\n",
      "http://dbpedia.org/resource/Automated_essay_scoring\n",
      "http://dbpedia.org/resource/Spanish_language\n",
      "http://dbpedia.org/resource/SHRDLU\n",
      "http://dbpedia.org/resource/Thematic_relation\n",
      "http://dbpedia.org/resource/Parsing\n",
      "http://dbpedia.org/resource/Ambiguity\n",
      "http://dbpedia.org/resource/French_language\n",
      "http://dbpedia.org/resource/Full_stop\n",
      "http://dbpedia.org/resource/Inflection\n",
      "http://dbpedia.org/resource/Japanese_language\n",
      "http://dbpedia.org/resource/First-order_logic\n",
      "http://dbpedia.org/resource/Parse_tree\n",
      "http://dbpedia.org/resource/Word_embedding\n",
      "http://dbpedia.org/resource/Anaphora_(linguistics)\n",
      "http://dbpedia.org/resource/Apertium\n",
      "http://dbpedia.org/resource/Arabic\n",
      "http://dbpedia.org/resource/Artificial_intelligence\n",
      "http://dbpedia.org/resource/Cache_language_model\n",
      "http://dbpedia.org/resource/Thai_language\n",
      "http://dbpedia.org/resource/Cognition\n",
      "http://dbpedia.org/resource/Textual_entailment\n",
      "http://dbpedia.org/resource/Abstract_Meaning_Representation\n",
      "http://dbpedia.org/resource/Agglutination\n",
      "http://dbpedia.org/resource/Comparative\n",
      "http://dbpedia.org/resource/Compound-term_processing\n",
      "http://dbpedia.org/resource/Computational_linguistics\n",
      "http://dbpedia.org/resource/Computer-assisted_language_learning\n",
      "http://dbpedia.org/resource/Computer-assisted_reviewing\n",
      "http://dbpedia.org/resource/Computer_science\n",
      "http://dbpedia.org/resource/Computing_Machinery_and_Intelligence\n",
      "http://dbpedia.org/resource/Turing_test\n",
      "http://dbpedia.org/resource/Turkish_language\n",
      "http://dbpedia.org/resource/Feature_learning\n",
      "http://dbpedia.org/resource/Query_understanding\n",
      "http://dbpedia.org/resource/Transformer_(machine_learning_model)\n",
      "http://dbpedia.org/resource/Verb\n",
      "http://dbpedia.org/resource/Georgetown–IBM_experiment\n",
      "http://dbpedia.org/resource/Abbreviation\n",
      "http://dbpedia.org/resource/Adjective\n",
      "http://dbpedia.org/resource/Computer\n",
      "http://dbpedia.org/resource/Ontology_(information_science)\n",
      "http://dbpedia.org/resource/Multimodal_sentiment_analysis\n",
      "http://dbpedia.org/resource/Parliament_of_Canada\n",
      "http://dbpedia.org/resource/Part_of_speech\n",
      "http://dbpedia.org/resource/Capitalization\n",
      "http://dbpedia.org/resource/Stochastic_grammar\n",
      "http://dbpedia.org/resource/European_Union\n",
      "http://dbpedia.org/resource/Natural-language_programming\n",
      "http://dbpedia.org/resource/Statistical_model\n",
      "http://dbpedia.org/resource/Discourse\n",
      "http://dbpedia.org/resource/Discourse_analysis\n",
      "http://dbpedia.org/resource/Discourse_representation_theory\n",
      "http://dbpedia.org/resource/Distributional_semantics\n",
      "http://dbpedia.org/resource/ELIZA\n",
      "http://dbpedia.org/resource/Sentence_boundary_disambiguation\n",
      "http://dbpedia.org/resource/Generative_grammar\n",
      "http://dbpedia.org/resource/Information_extraction\n",
      "http://dbpedia.org/resource/Information_retrieval\n",
      "http://dbpedia.org/resource/Knowledge_extraction\n",
      "http://dbpedia.org/resource/Truecasing\n",
      "http://dbpedia.org/resource/Supervised_learning\n",
      "http://dbpedia.org/resource/Racter\n",
      "http://dbpedia.org/resource/English_language\n",
      "http://dbpedia.org/resource/Moore's_law\n",
      "http://dbpedia.org/resource/Morpheme\n",
      "http://dbpedia.org/resource/Morphology_(linguistics)\n",
      "http://dbpedia.org/resource/John_Searle\n",
      "http://dbpedia.org/resource/Joseph_Weizenbaum\n",
      "http://dbpedia.org/resource/Meitei_language\n",
      "http://dbpedia.org/resource/Conceptual_metaphor\n",
      "http://dbpedia.org/resource/Text_corpus\n",
      "http://dbpedia.org/resource/Word-sense_disambiguation\n",
      "http://dbpedia.org/resource/Vocabulary\n",
      "http://dbpedia.org/resource/Blocks_world\n",
      "http://dbpedia.org/resource/Closed-world_assumption\n",
      "http://dbpedia.org/resource/Coarticulation\n",
      "http://dbpedia.org/resource/Time_complexity\n",
      "http://dbpedia.org/resource/Tone_(linguistics)\n",
      "http://dbpedia.org/resource/WordNet\n",
      "http://dbpedia.org/resource/PARRY\n",
      "http://dbpedia.org/resource/Part-of-speech_tagging\n",
      "http://dbpedia.org/resource/Probability\n",
      "http://dbpedia.org/resource/Pronoun\n",
      "http://dbpedia.org/resource/Proofreading\n",
      "http://dbpedia.org/resource/Stemming\n",
      "http://dbpedia.org/resource/Terminology_extraction\n",
      "http://dbpedia.org/resource/Transformational_grammar\n",
      "http://dbpedia.org/resource/World_Wide_Web\n",
      "http://dbpedia.org/resource/Spoken_dialog_systems\n",
      "http://dbpedia.org/resource/Natural-language_user_interface\n",
      "http://dbpedia.org/resource/File:Automated_online_assistant.png\n"
     ]
    }
   ],
   "source": [
    "sparql = SPARQLWrapper('https://dbpedia.org/sparql')\n",
    "sparql.setQuery('''\n",
    "    SELECT ?object\n",
    "    WHERE { dbr:Natural_language_processing dbo:wikiPageWikiLink ?object .} \n",
    "''')\n",
    "\n",
    "sparql.setReturnFormat(JSON)\n",
    "qres = sparql.query().convert()\n",
    "#     print(qres)\n",
    "\n",
    "for result in qres['results']['bindings']:\n",
    "    print(result['object']['value'])"
   ]
  },
  {
   "cell_type": "code",
   "execution_count": null,
   "metadata": {},
   "outputs": [],
   "source": []
  }
 ],
 "metadata": {
  "kernelspec": {
   "display_name": "Python 3",
   "language": "python",
   "name": "python3"
  },
  "language_info": {
   "codemirror_mode": {
    "name": "ipython",
    "version": 3
   },
   "file_extension": ".py",
   "mimetype": "text/x-python",
   "name": "python",
   "nbconvert_exporter": "python",
   "pygments_lexer": "ipython3",
   "version": "3.8.5"
  }
 },
 "nbformat": 4,
 "nbformat_minor": 4
}
