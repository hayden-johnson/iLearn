{
 "cells": [
  {
   "cell_type": "code",
   "execution_count": 2,
   "id": "cd4dbe47",
   "metadata": {},
   "outputs": [
    {
     "name": "stdout",
     "output_type": "stream",
     "text": [
      "What do you want to learn about? machine learning \n"
     ]
    }
   ],
   "source": [
    "user_goal = input(\"What do you want to learn about? \")"
   ]
  },
  {
   "cell_type": "code",
   "execution_count": 4,
   "id": "cdced62e",
   "metadata": {},
   "outputs": [
    {
     "name": "stdout",
     "output_type": "stream",
     "text": [
      "machine learning \n"
     ]
    }
   ],
   "source": [
    "print(user_goal)"
   ]
  },
  {
   "cell_type": "code",
   "execution_count": null,
   "id": "e8e81ad3",
   "metadata": {},
   "outputs": [],
   "source": []
  }
 ],
 "metadata": {
  "kernelspec": {
   "display_name": "Python 3.8.5 64-bit ('venv': venv)",
   "language": "python",
   "name": "python385jvsc74a57bd0df68d25c142e27944c3ea3dec1fa2245c7f860888ecd369c2e5005307f1e6324"
  },
  "language_info": {
   "codemirror_mode": {
    "name": "ipython",
    "version": 3
   },
   "file_extension": ".py",
   "mimetype": "text/x-python",
   "name": "python",
   "nbconvert_exporter": "python",
   "pygments_lexer": "ipython3",
   "version": "3.8.5"
  }
 },
 "nbformat": 4,
 "nbformat_minor": 5
}
